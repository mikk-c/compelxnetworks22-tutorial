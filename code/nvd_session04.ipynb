{
 "cells": [
  {
   "cell_type": "code",
   "execution_count": 1,
   "id": "dd2a358e-3e37-4abc-b11f-12aa18e5052b",
   "metadata": {},
   "outputs": [],
   "source": [
    "using Graphs, SimpleWeightedGraphs\n",
    "include(\"NetworkDistance.jl\");"
   ]
  },
  {
   "cell_type": "code",
   "execution_count": 2,
   "id": "190ce97c-4475-4e0f-bf0d-95ec083b7fd5",
   "metadata": {},
   "outputs": [],
   "source": [
    "runtimes_baseline = Dict{Int64, Float64}(); # Dictionary \"# nodes -> runtime in seconds\" to store the running times of the baseline\n",
    "runtime_solver = Dict{Int64, Float64}();    # Dictionary \"# nodes -> runtime in seconds\" to store the running times of the Laplacian solver"
   ]
  },
  {
   "cell_type": "code",
   "execution_count": 3,
   "id": "b4ca7d5e-91d8-440b-82d9-52bf9435e54a",
   "metadata": {},
   "outputs": [
    {
     "data": {
      "text/plain": [
       "Dict{Int64, Float64} with 6 entries:\n",
       "  200  => 0.00552633\n",
       "  500  => 0.0328485\n",
       "  2000 => 1.1634\n",
       "  5000 => 27.2497\n",
       "  1000 => 0.159127\n",
       "  100  => 0.00150724"
      ]
     },
     "execution_count": 3,
     "metadata": {},
     "output_type": "execute_result"
    }
   ],
   "source": [
    "for n in [100, 200, 500, 1000, 2000, 5000]                                # For larger networks (n regulates the number of nodes)...\n",
    "    for r in 0:1                                                          # ...make two runs (Julia's first run includes compilation time...\n",
    "        G = adjacency_matrix(SimpleWeightedGraph(erdos_renyi(n, n * 2))); # ...make an Erdos-Renyi random graph with n node and avg degree of 4\n",
    "        s = rand(Float64, n);                                             # Make a vector with a random value per node in the network\n",
    "        t = rand(Float64, n);                                             # Make another random vector\n",
    "        trial = @timed NetworkDistance.ge(G, s - t, \"base\");              # Time how much time it takes to estimate ge distance between s and t\n",
    "        if r > 0                                                          # If this is not the first run...\n",
    "            runtimes_baseline[n] = trial.time;                            # ...store the running time in the dictioanry\n",
    "        end\n",
    "    end\n",
    "end\n",
    "\n",
    "runtimes_baseline"
   ]
  },
  {
   "cell_type": "code",
   "execution_count": 4,
   "id": "165d37a3-91a2-4030-91c3-0ce3d188c566",
   "metadata": {},
   "outputs": [
    {
     "data": {
      "text/plain": [
       "Dict{Int64, Float64} with 6 entries:\n",
       "  200  => 0.000199472\n",
       "  500  => 0.00042869\n",
       "  2000 => 0.00248691\n",
       "  5000 => 0.00735952\n",
       "  1000 => 0.0010411\n",
       "  100  => 0.0655915"
      ]
     },
     "execution_count": 4,
     "metadata": {},
     "output_type": "execute_result"
    }
   ],
   "source": [
    "# Repeat the experiment from the previous cell with the same code, but now using the \"approxchol\" Laplacian solver instead\n",
    "for n in [100, 200, 500, 1000, 2000, 5000]\n",
    "    for r in 0:1\n",
    "        G = adjacency_matrix(SimpleWeightedGraph(erdos_renyi(n, n * 2)));\n",
    "        s = rand(Float64, n);\n",
    "        t = rand(Float64, n);\n",
    "        trial = @timed NetworkDistance.ge(G, s - t, \"approxchol\");\n",
    "        if r > 0\n",
    "            runtime_solver[n] = trial.time;\n",
    "        end\n",
    "    end\n",
    "end\n",
    "\n",
    "runtime_solver"
   ]
  },
  {
   "cell_type": "code",
   "execution_count": 5,
   "id": "462d38cb-3e15-4b4f-9583-09052a8a2673",
   "metadata": {},
   "outputs": [
    {
     "name": "stdout",
     "output_type": "stream",
     "text": [
      "Exact graph Euclidean distance: 13.114699358420399\n",
      "Approximate graph Euclidean distance baseline: 13.114699358417543\n"
     ]
    }
   ],
   "source": [
    "n = 2000;                                                                # Set number of nodes to 2000\n",
    "\n",
    "G = adjacency_matrix(SimpleWeightedGraph(erdos_renyi(n, n * 2)));        # Make a random graph with n nodes and avg degree of 4\n",
    "s = rand(Float64, n);                                                    # Make a vector with a random value per node in the network\n",
    "t = rand(Float64, n);                                                    # Make another\n",
    "\n",
    "ge_base = NetworkDistance.ge(G, s - t, \"base\");                          # Calculate the exact value of ge with the baseline\n",
    "ge_approx = NetworkDistance.ge(G, s - t, \"approxchol\");                  # Calculate the approximate value of ge with the \"approxchol\" Laplacian solver\n",
    "\n",
    "println(\"Exact graph Euclidean distance: $(ge_base)\");\n",
    "println(\"Approximate graph Euclidean distance baseline: $(ge_approx)\");"
   ]
  }
 ],
 "metadata": {
  "kernelspec": {
   "display_name": "Julia 1.8.0",
   "language": "julia",
   "name": "julia-1.8"
  },
  "language_info": {
   "file_extension": ".jl",
   "mimetype": "application/julia",
   "name": "julia",
   "version": "1.8.0"
  }
 },
 "nbformat": 4,
 "nbformat_minor": 5
}
