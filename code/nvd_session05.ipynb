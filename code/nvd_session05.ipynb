{
 "cells": [
  {
   "cell_type": "code",
   "execution_count": 1,
   "id": "85ee24c7-98c7-4e5b-baac-805b478656b3",
   "metadata": {},
   "outputs": [],
   "source": [
    "import random\n",
    "import numpy as np\n",
    "import pandas as pd\n",
    "import networkx as nx\n",
    "import network_distance as nd\n",
    "import matplotlib.pyplot as plt\n",
    "\n",
    "import warnings\n",
    "warnings.simplefilter(action = \"ignore\", category = FutureWarning)"
   ]
  },
  {
   "cell_type": "code",
   "execution_count": 2,
   "id": "75560a2a-f993-4465-9b27-e86bd65e23fa",
   "metadata": {},
   "outputs": [
    {
     "name": "stdout",
     "output_type": "stream",
     "text": [
      "Obamacare opinion polarization: 9.4405\n"
     ]
    }
   ],
   "source": [
    "# Q1: What is the level of opinion polarization in the Obamacare debate?\n",
    "# A: Read the network, read the opinion values from the X vector, calculate the ge distance of those values with a vector of zeros\n",
    "G_obama = nx.read_edgelist(\"../data/obama_edgelist.csv\", delimiter = \",\", nodetype = int)\n",
    "vector_df = pd.read_csv(\"../data/obama_nodevectors.csv\")\n",
    "v1_dict = vector_df.set_index(\"node\").to_dict()[\"X\"]\n",
    "\n",
    "print(f\"Obamacare opinion polarization: {nd.ge(v1_dict, {}, G_obama, normed = False):.4f}\")"
   ]
  },
  {
   "cell_type": "code",
   "execution_count": 3,
   "id": "416778a0-7a0a-4204-9421-300635c31346",
   "metadata": {},
   "outputs": [
    {
     "name": "stdout",
     "output_type": "stream",
     "text": [
      "Gun control opinion polarization: 11.1718\n"
     ]
    }
   ],
   "source": [
    "# Q2: Is the Gun Control debate more or less ideologically polarized than Obamacare?\n",
    "# A: Repeat the previous approach but this time on the gun control network and compare the scores\n",
    "G_guncontrol = nx.read_edgelist(\"../data/guncontrol_edgelist.csv\", delimiter = \",\", nodetype = int)\n",
    "vector_df = pd.read_csv(\"../data/guncontrol_nodevectors.csv\")\n",
    "v2_dict = vector_df.set_index(\"node\").to_dict()[\"X\"]\n",
    "\n",
    "print(f\"Gun control opinion polarization: {nd.ge(v2_dict, {}, G_guncontrol, normed = False):.4f}\")"
   ]
  },
  {
   "cell_type": "code",
   "execution_count": 4,
   "id": "ba470ef4-636d-4181-99ba-2ee0b9b2d9a6",
   "metadata": {},
   "outputs": [
    {
     "name": "stdout",
     "output_type": "stream",
     "text": [
      "Obamacare affective polarization: 0.9861\n"
     ]
    }
   ],
   "source": [
    "# Q3: What is the level of affective polarization in the Obamacare debate?\n",
    "# A: Make line graph of the network, for each edge calculate the ideological difference, then read each edge's sentiment score and calcualte the network correlation.\n",
    "G_obama_line = nx.line_graph(G_obama)\n",
    "edge_df = pd.DataFrame(data = G_obama_line.nodes, columns = (\"n1\", \"n2\"))\n",
    "\n",
    "edge_df[\"ideo_diff\"] = edge_df.apply(lambda x: abs(v1_dict[x[\"n1\"]] - v1_dict[x[\"n2\"]]), axis = 1)\n",
    "\n",
    "edge_sentiment = pd.read_csv(\"../data/obama_edgevectors.csv\")\n",
    "edge_df = edge_df.merge(edge_sentiment, on = [\"n1\", \"n2\"])\n",
    "\n",
    "ideo_dict = {(row[\"n1\"], row[\"n2\"]): row[\"ideo_diff\"] for index, row in edge_df.iterrows()}\n",
    "senti_dict = {(row[\"n1\"], row[\"n2\"]): row[\"sentiment\"] for index, row in edge_df.iterrows()}\n",
    "\n",
    "print(f\"Obamacare affective polarization: {nd.correlation(ideo_dict, senti_dict, G_obama_line):.4f}\")"
   ]
  },
  {
   "cell_type": "code",
   "execution_count": 5,
   "id": "2fbc8876-fd45-42c8-b8e2-01800677a5bc",
   "metadata": {},
   "outputs": [
    {
     "name": "stdout",
     "output_type": "stream",
     "text": [
      "\n",
      "Network variance of USA: 10.14276001368656;\n",
      "Network variance of JPN: 4.587322939017621;\n",
      "Network variance of THA: 10.842231906519588;\n",
      "Network variance of MWI: 21.72494134249552;\n",
      "\n"
     ]
    }
   ],
   "source": [
    "# Q4: Which country is more spread out in the Product Space between the United States, Japan, Thailand, and Malawi?\n",
    "# A: Read the Product Space network, make a vector of \"product -> RCA\" for each country, calculate their network variance (dispersion)\n",
    "G_ps = nx.read_edgelist(\"../data/product_space.csv\", delimiter = \",\", nodetype = str)\n",
    "exports = pd.read_csv(\"../data/country_exports.csv\", dtype = {\"sitc\": str})\n",
    "\n",
    "usa = exports[exports[\"exporter\"] == \"USA\"].set_index(\"sitc\")[\"rca\"].to_dict()\n",
    "jpn = exports[exports[\"exporter\"] == \"JPN\"].set_index(\"sitc\")[\"rca\"].to_dict()\n",
    "tha = exports[exports[\"exporter\"] == \"THA\"].set_index(\"sitc\")[\"rca\"].to_dict()\n",
    "mwi = exports[exports[\"exporter\"] == \"MWI\"].set_index(\"sitc\")[\"rca\"].to_dict()\n",
    "\n",
    "spls = nd._resistance(G_ps) # Since the network doesn't change, we can calculate the effective resistance matrix only once and reuse it\n",
    "\n",
    "print(f\"\"\"\n",
    "Network variance of USA: {nd.variance(usa, G_ps, shortest_path_lengths = spls, kernel = \"resistance\")};\n",
    "Network variance of JPN: {nd.variance(jpn, G_ps, shortest_path_lengths = spls, kernel = \"resistance\")};\n",
    "Network variance of THA: {nd.variance(tha, G_ps, shortest_path_lengths = spls, kernel = \"resistance\")};\n",
    "Network variance of MWI: {nd.variance(mwi, G_ps, shortest_path_lengths = spls, kernel = \"resistance\")};\n",
    "\"\"\")"
   ]
  },
  {
   "cell_type": "code",
   "execution_count": 6,
   "id": "84fd611d-68f6-4626-966b-675c9a27dcec",
   "metadata": {},
   "outputs": [
    {
     "data": {
      "text/html": [
       "<div>\n",
       "<style scoped>\n",
       "    .dataframe tbody tr th:only-of-type {\n",
       "        vertical-align: middle;\n",
       "    }\n",
       "\n",
       "    .dataframe tbody tr th {\n",
       "        vertical-align: top;\n",
       "    }\n",
       "\n",
       "    .dataframe thead th {\n",
       "        text-align: right;\n",
       "    }\n",
       "</style>\n",
       "<table border=\"1\" class=\"dataframe\">\n",
       "  <thead>\n",
       "    <tr style=\"text-align: right;\">\n",
       "      <th></th>\n",
       "      <th>beta</th>\n",
       "      <th>ge</th>\n",
       "    </tr>\n",
       "  </thead>\n",
       "  <tbody>\n",
       "    <tr>\n",
       "      <th>beta</th>\n",
       "      <td>1.000000</td>\n",
       "      <td>0.837504</td>\n",
       "    </tr>\n",
       "    <tr>\n",
       "      <th>ge</th>\n",
       "      <td>0.837504</td>\n",
       "      <td>1.000000</td>\n",
       "    </tr>\n",
       "  </tbody>\n",
       "</table>\n",
       "</div>"
      ],
      "text/plain": [
       "          beta        ge\n",
       "beta  1.000000  0.837504\n",
       "ge    0.837504  1.000000"
      ]
     },
     "execution_count": 6,
     "metadata": {},
     "output_type": "execute_result"
    }
   ],
   "source": [
    "# Q5: Can we retrieve the infection parameter of a disease by observing its speed in propagating through a social network?\n",
    "# A: Make a function simulating the S -> I step of a simple infection model, run it on a network with communities for different beta values,\n",
    "#    then calculate the ge distance between initial and final state after the infection. Calculate the spearman correlation between the beta\n",
    "#    values and the ge values.\n",
    "def si(G, seed, beta, steps = 10):\n",
    "    i_nodes = seed.copy()  # i_nodes is the set of currently infectious nodes\n",
    "    for _ in range(steps): # For each step in the simulation...\n",
    "        # ...we identify the susceptible nodes with at least one infected neighbor...\n",
    "        s_neighbors_of_i = {n for i_node in i_nodes for n in G.neighbors(i_node)} - i_nodes\n",
    "        for s_node in s_neighbors_of_i: # ...for each of these susceptible nodes...\n",
    "            if random.random() < beta:  # ...with probability beta...\n",
    "                i_nodes.add(s_node)     # ...we add them to the infected set\n",
    "    return i_nodes\n",
    "\n",
    "betas = np.random.uniform(low = 0.0, high = 0.05, size = 1000) # Pick 1000 betas uniformly at random between 0 and 0.05\n",
    "# Make a network with 4 communities of 100 nodes each. Each community has an internal density of 10%,\n",
    "# and connects with 0.1% of the possible edges to each of the other communities\n",
    "G_sbm = nx.stochastic_block_model([100] * 4, [[0.1, 0.001, 0.001, 0.001], [0.001, 0.1, 0.001, 0.001], [0.001, 0.001, 0.1, 0.001], [0.001, 0.001, 0.001, 0.1]])\n",
    "\n",
    "Q = nd._ge_Q(G_sbm) # Since the network doesn't change, we can pseudoinvert the Laplacian only once, and reuse the result\n",
    "ges = []\n",
    "\n",
    "for beta in betas:                                             # For each of the infection parameters beta...\n",
    "    seed = set(random.sample(list(G_sbm.nodes), 10))           # ...we pick the intial infected set of ten nodes at random\n",
    "    infected = si(G_sbm, seed, beta)                           # We run the SI models for 10 steps\n",
    "    seed_dict = {i: 1 for i in seed}                           # We make a dictionary with a value of 1 per node in the original seed set\n",
    "    infected_dict = {i: 1 for i in infected}                   # We make a dictionary with a value of 1 per node in the final infected set\n",
    "    ges.append(nd.ge(seed_dict, infected_dict, G_sbm, Q = Q))  # We calculate the ge between original seeds and final infected and store it in a list\n",
    "\n",
    "df = pd.DataFrame()\n",
    "df[\"beta\"] = betas\n",
    "df[\"ge\"] = ges\n",
    "\n",
    "df.corr(method = \"spearman\")"
   ]
  },
  {
   "cell_type": "code",
   "execution_count": 7,
   "id": "8e4f1a4e-4889-4b4f-bde7-9f12a6673132",
   "metadata": {},
   "outputs": [
    {
     "data": {
      "image/png": "[encoded data removed]",
      "text/plain": [
       "<Figure size 432x288 with 1 Axes>"
      ]
     },
     "metadata": {
      "needs_background": "light"
     },
     "output_type": "display_data"
    }
   ],
   "source": [
    "df.plot(x = \"beta\", y = \"ge\", kind = \"scatter\")\n",
    "plt.show()"
   ]
  }
 ],
 "metadata": {
  "kernelspec": {
   "display_name": "Python 3 (ipykernel)",
   "language": "python",
   "name": "python3"
  },
  "language_info": {
   "codemirror_mode": {
    "name": "ipython",
    "version": 3
   },
   "file_extension": ".py",
   "mimetype": "text/x-python",
   "name": "python",
   "nbconvert_exporter": "python",
   "pygments_lexer": "ipython3",
   "version": "3.10.6"
  }
 },
 "nbformat": 4,
 "nbformat_minor": 5
}
