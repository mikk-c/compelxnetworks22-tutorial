{
 "cells": [
  {
   "cell_type": "code",
   "execution_count": 1,
   "id": "71dbc9a6-7cb0-45d2-9249-fb18cfe954f4",
   "metadata": {},
   "outputs": [],
   "source": [
    "import pandas as pd\n",
    "import networkx as nx\n",
    "import network_distance as nd\n",
    "import matplotlib.pyplot as plt\n",
    "\n",
    "import warnings\n",
    "warnings.simplefilter(action = \"ignore\", category = FutureWarning)"
   ]
  },
  {
   "cell_type": "code",
   "execution_count": 2,
   "id": "21c3baae-9493-4614-9236-a27e7e2c2205",
   "metadata": {},
   "outputs": [],
   "source": [
    "vector_df = pd.read_csv(\"../data/obama_nodevectors.csv\") # Load the data. Comma-separated. 3 columns: node id, then two values per node.\n",
    "\n",
    "vector_df[\"X\"] -= vector_df[\"X\"].min()                   # We make sure the vectors' minimum is zero, to compare results with the ones from previous exercise\n",
    "vector_df[\"Y\"] -= vector_df[\"Y\"].min()\n",
    "\n",
    "v1_dict = vector_df.set_index(\"node\").to_dict()[\"X\"]     # Convert each variable to a \"node -> value\" dict\n",
    "v2_dict = vector_df.set_index(\"node\").to_dict()[\"Y\"]\n",
    "\n",
    "# Read comma-separated edge list with one edge per line into a networkx undirected graph object\n",
    "G = nx.read_edgelist(\"../data/obama_edgelist.csv\", delimiter = \",\", nodetype = int)"
   ]
  },
  {
   "cell_type": "code",
   "execution_count": 3,
   "id": "0e08c4a4-d70a-47f4-953a-c345988ab519",
   "metadata": {},
   "outputs": [
    {
     "name": "stdout",
     "output_type": "stream",
     "text": [
      "\n",
      "Single linkage: 0.19261940695605487;\n",
      "Average linkage: 2.492817629483678;\n",
      "Complete linkage: 3.344816651914214.\n",
      "\n"
     ]
    }
   ],
   "source": [
    "print(f\"\"\"\n",
    "Single linkage: {nd.spl(v1_dict, v2_dict, G, linkage = \"single\")};\n",
    "Average linkage: {nd.spl(v1_dict, v2_dict, G, linkage = \"avg\")};\n",
    "Complete linkage: {nd.spl(v1_dict, v2_dict, G, linkage = \"complete\")}.\n",
    "\"\"\")"
   ]
  },
  {
   "cell_type": "code",
   "execution_count": 4,
   "id": "46207edd-a930-4423-9966-ed947cfa8357",
   "metadata": {},
   "outputs": [
    {
     "name": "stdout",
     "output_type": "stream",
     "text": [
      "\n",
      "EMD: 0.17431584907100547.\n",
      "\n"
     ]
    }
   ],
   "source": [
    "print(f\"\"\"\n",
    "EMD: {nd.emd(v1_dict, v2_dict, G)}.\n",
    "\"\"\")"
   ]
  },
  {
   "cell_type": "code",
   "execution_count": 5,
   "id": "6dba67d9-9a2b-45ce-a3eb-cba088cd4979",
   "metadata": {},
   "outputs": [
    {
     "name": "stdout",
     "output_type": "stream",
     "text": [
      "\n",
      "GFT Euclidean: 0.34111852283972527;\n",
      "GFT Cosine: 0.05347390684871789;\n",
      "GFT Pearson: 0.05347390684871789.\n",
      "\n"
     ]
    }
   ],
   "source": [
    "print(f\"\"\"\n",
    "GFT Euclidean: {nd.gft(v1_dict, v2_dict, G, linkage = \"euclidean\")};\n",
    "GFT Cosine: {nd.gft(v1_dict, v2_dict, G, linkage = \"cosine\")};\n",
    "GFT Pearson: {nd.gft(v1_dict, v2_dict, G, linkage = \"pearson\")}.\n",
    "\"\"\")"
   ]
  }
 ],
 "metadata": {
  "kernelspec": {
   "display_name": "Python 3 (ipykernel)",
   "language": "python",
   "name": "python3"
  },
  "language_info": {
   "codemirror_mode": {
    "name": "ipython",
    "version": 3
   },
   "file_extension": ".py",
   "mimetype": "text/x-python",
   "name": "python",
   "nbconvert_exporter": "python",
   "pygments_lexer": "ipython3",
   "version": "3.10.6"
  }
 },
 "nbformat": 4,
 "nbformat_minor": 5
}
