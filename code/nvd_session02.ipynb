{
 "cells": [
  {
   "cell_type": "code",
   "execution_count": 1,
   "id": "416eb334-3fd2-4169-b4ec-03b63548b1aa",
   "metadata": {},
   "outputs": [],
   "source": [
    "import numpy as np\n",
    "import pandas as pd\n",
    "import networkx as nx\n",
    "import network_distance as nd\n",
    "import matplotlib.pyplot as plt\n",
    "from scipy.stats import pearsonr\n",
    "from scipy.spatial import distance\n",
    "\n",
    "import warnings\n",
    "warnings.simplefilter(action = \"ignore\", category = FutureWarning)"
   ]
  },
  {
   "cell_type": "code",
   "execution_count": 2,
   "id": "ddcfe9f5-2ade-4bfc-9996-fb47008e5f06",
   "metadata": {},
   "outputs": [
    {
     "data": {
      "image/png": "[encoded data removed]",
      "text/plain": [
       "<Figure size 432x288 with 1 Axes>"
      ]
     },
     "metadata": {
      "needs_background": "light"
     },
     "output_type": "display_data"
    }
   ],
   "source": [
    "df = []\n",
    "\n",
    "for l in range(2, 101):\n",
    "    G = nx.path_graph(l)             # Creating longer and longer path graphs: O-O-O-O-O is a path graph with l = 5\n",
    "    v1 = {0: 1}                      # In the first vector, the leftmost node in the path graph has value 1, everything else has value 0\n",
    "    v2 = {l - 1: 1}                  # In the second vector, the rightmost node in the path graph has value 1, everything else has value 0\n",
    "    df.append((l, nd.ge(v1, v2, G))) # We store the generalized euclidean values in a list of tuples, each tuple is (l, ge_value)\n",
    "\n",
    "df = pd.DataFrame(data = df, columns = (\"l\", \"ge\")) # Convert list of tuples into a pandas dataframe\n",
    "df = df.set_index(\"l\")                              # Index by l value\n",
    "\n",
    "df.plot()  # Make a plot with l (the index) on the x-axis and all other columns (in this case just ge) on the y axis.\n",
    "plt.show()"
   ]
  },
  {
   "cell_type": "code",
   "execution_count": 3,
   "id": "702da0b1-cc0d-49b5-b2cf-ccf627483956",
   "metadata": {},
   "outputs": [],
   "source": [
    "vector_df = pd.read_csv(\"../data/obama_nodevectors.csv\")                         # Load the data. Comma-separated. 3 columns: node id, then two values per node.\n",
    "\n",
    "vector_df[\"X\"] -= vector_df[\"X\"].min()                                           # The technique to estimate graph variances cannot handle negative values\n",
    "vector_df[\"Y\"] -= vector_df[\"Y\"].min()\n",
    "\n",
    "v1_dict = vector_df.set_index(\"node\").to_dict()[\"X\"]                             # Convert each variable to a \"node -> value\" dict\n",
    "v2_dict = vector_df.set_index(\"node\").to_dict()[\"Y\"]\n",
    "\n",
    "# Read comma-separated edge list with one edge per line into a networkx undirected graph object\n",
    "G = nx.read_edgelist(\"../data/obama_edgelist.csv\", delimiter = \",\", nodetype = int)\n",
    "\n",
    "nodes = sorted(list(set(v1_dict.keys()) | set(v2_dict.keys())))                  # Get a list of all the nodes for which we have a value\n",
    "\n",
    "v1_array = np.array([v1_dict[node] if node in v1_dict else 0 for node in nodes]) # Convert dicts into a numpy array by iterating over the nodelist (to preserve order)\n",
    "v2_array = np.array([v2_dict[node] if node in v2_dict else 0 for node in nodes])"
   ]
  },
  {
   "cell_type": "code",
   "execution_count": 4,
   "id": "de142a65-beb6-4c79-acc2-eeef700c691f",
   "metadata": {},
   "outputs": [
    {
     "name": "stdout",
     "output_type": "stream",
     "text": [
      "\n",
      "Euclidean distance: 5.896934065282218;\n",
      "Pearson correlation: PearsonRResult(statistic=0.8295942972278013, pvalue=5.089008071273281e-53);\n",
      "X variance: 0.22515240634802855;\n",
      "Y variance: 0.07401456886131398.\n",
      "\n"
     ]
    }
   ],
   "source": [
    "print(f\"\"\"\n",
    "Euclidean distance: {distance.euclidean(v1_array, v2_array)};\n",
    "Pearson correlation: {pearsonr(v1_array, v2_array)};\n",
    "X variance: {np.var(v1_array)};\n",
    "Y variance: {np.var(v2_array)}.\n",
    "\"\"\")"
   ]
  },
  {
   "cell_type": "code",
   "execution_count": 5,
   "id": "a1ea58f1-54e7-4af4-a6e0-5edd891a1461",
   "metadata": {},
   "outputs": [
    {
     "name": "stdout",
     "output_type": "stream",
     "text": [
      "\n",
      "Graph Euclidean distance: 4.997078233540467;\n",
      "Graph Pearson correlation: 0.9274446928484382;\n",
      "X Graph variance: 0.14376842936446838;\n",
      "Y Graph variance: 0.17476756215836015.\n",
      "\n"
     ]
    }
   ],
   "source": [
    "# Set normed to False because otherwise the method will normalize the input vectors so they sum to 1\n",
    "print(f\"\"\"\n",
    "Graph Euclidean distance: {nd.ge(v1_dict, v2_dict, G, normed = False)};\n",
    "Graph Pearson correlation: {nd.correlation(v1_dict, v2_dict, G)};\n",
    "X Graph variance: {nd.variance(v1_dict, G, kernel = \"resistance\")};\n",
    "Y Graph variance: {nd.variance(v2_dict, G, kernel = \"resistance\")}.\n",
    "\"\"\")"
   ]
  },
  {
   "cell_type": "code",
   "execution_count": 6,
   "id": "6b7fa8e1-1f78-468f-8633-ff924dcd70f9",
   "metadata": {},
   "outputs": [
    {
     "name": "stdout",
     "output_type": "stream",
     "text": [
      "\n",
      "Graph Euclidean distance: 4.997078233540467;\n",
      "Graph MMC distance: 0.029955562914865338;\n",
      "Graph Annihilation distance: 8.825766153267699.\n",
      "\n"
     ]
    }
   ],
   "source": [
    "print(f\"\"\"\n",
    "Graph Euclidean distance: {nd.ge(v1_dict, v2_dict, G, normed = False)};\n",
    "Graph MMC distance: {nd.mmc(v1_dict, v2_dict, G, normed = False)};\n",
    "Graph Annihilation distance: {nd.annihilation(v1_dict, v2_dict, G, normed = False)}.\n",
    "\"\"\")"
   ]
  }
 ],
 "metadata": {
  "kernelspec": {
   "display_name": "Python 3 (ipykernel)",
   "language": "python",
   "name": "python3"
  },
  "language_info": {
   "codemirror_mode": {
    "name": "ipython",
    "version": 3
   },
   "file_extension": ".py",
   "mimetype": "text/x-python",
   "name": "python",
   "nbconvert_exporter": "python",
   "pygments_lexer": "ipython3",
   "version": "3.10.6"
  }
 },
 "nbformat": 4,
 "nbformat_minor": 5
}
